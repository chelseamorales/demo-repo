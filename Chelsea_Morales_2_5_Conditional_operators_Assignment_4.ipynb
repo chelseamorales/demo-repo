{
  "nbformat": 4,
  "nbformat_minor": 0,
  "metadata": {
    "colab": {
      "name": "Chelsea Morales - 2-5 Conditional operators Assignment 4.ipynb",
      "provenance": [],
      "include_colab_link": true
    },
    "kernelspec": {
      "name": "python3",
      "display_name": "Python 3"
    },
    "language_info": {
      "name": "python"
    }
  },
  "cells": [
    {
      "cell_type": "markdown",
      "metadata": {
        "id": "view-in-github",
        "colab_type": "text"
      },
      "source": [
        "<a href=\"https://colab.research.google.com/github/chelseamorales/demo-repo/blob/main/Chelsea_Morales_2_5_Conditional_operators_Assignment_4.ipynb\" target=\"_parent\"><img src=\"https://colab.research.google.com/assets/colab-badge.svg\" alt=\"Open In Colab\"/></a>"
      ]
    },
    {
      "cell_type": "markdown",
      "source": [
        "##2-5 Conditional operators and if statements\n"
      ],
      "metadata": {
        "id": "JJNI2qrwqgYB"
      }
    },
    {
      "cell_type": "markdown",
      "source": [
        "## Task 1: Admin user names\n",
        "* Make a list of 5 or more usernames, including an admin account. Imagine you are writing code that will welcome people to your application on login. Loop through the list and print your greeting.\n",
        "* If the admin account logs in, give them a special greeting.  They’re the admin, after all!\n",
        "* Other users can get the generic greeting"
      ],
      "metadata": {
        "id": "mXe7c59GqpEX"
      }
    },
    {
      "cell_type": "code",
      "execution_count": null,
      "metadata": {
        "id": "TFOFGzWWqSNV"
      },
      "outputs": [],
      "source": [
        "usernames = [\"admin\", \"cutepenguin\", \"citygirl\", \"iloveburgers\", \"catsanddogs\"]"
      ]
    },
    {
      "cell_type": "code",
      "source": [
        "for user in usernames:\n",
        "  if user == \"admin\":\n",
        "    print(\"Glad you are back, master!!! :)\")\n",
        "  else:\n",
        "    print(\"Welcome, \" + user + \"!\")"
      ],
      "metadata": {
        "id": "j3Hr_Lv7qw0I",
        "colab": {
          "base_uri": "https://localhost:8080/"
        },
        "outputId": "1c81885c-1947-4e8f-c133-2f4fd664a365"
      },
      "execution_count": null,
      "outputs": [
        {
          "output_type": "stream",
          "name": "stdout",
          "text": [
            "Glad you are back, master!!! :)\n",
            "Welcome, cutepenguin!\n",
            "Welcome, citygirl!\n",
            "Welcome, iloveburgers!\n",
            "Welcome, catsanddogs!\n"
          ]
        }
      ]
    },
    {
      "cell_type": "markdown",
      "source": [
        "##Task 2: Numbers\n",
        "\n",
        "* Store numbers 1-10 in a list\n",
        "* Loop through the list\n",
        "* Use an if-elif-else chain inside your loop to print the ordinal ending for each number – for example – 1st, 2nd, 3rd … etc."
      ],
      "metadata": {
        "id": "g3nnh2NJq9gY"
      }
    },
    {
      "cell_type": "code",
      "source": [
        "numbers = list(range(1,11))"
      ],
      "metadata": {
        "id": "DwBbjFgTrWps"
      },
      "execution_count": null,
      "outputs": []
    },
    {
      "cell_type": "code",
      "source": [
        "for num in numbers:\n",
        "  print(num)"
      ],
      "metadata": {
        "colab": {
          "base_uri": "https://localhost:8080/"
        },
        "id": "gtJQQrMEBL3o",
        "outputId": "0f586dfc-e128-4d26-f6cc-eb3120b93f55"
      },
      "execution_count": null,
      "outputs": [
        {
          "output_type": "stream",
          "name": "stdout",
          "text": [
            "1\n",
            "2\n",
            "3\n",
            "4\n",
            "5\n",
            "6\n",
            "7\n",
            "8\n",
            "9\n",
            "10\n"
          ]
        }
      ]
    },
    {
      "cell_type": "code",
      "source": [
        "for num in numbers:\n",
        "  if num == 1:\n",
        "    print(str(num) + \"st\")\n",
        "  elif num == 2:\n",
        "    print(str(num) + \"nd\")\n",
        "  elif num == 3:\n",
        "    print(str(num) + \"rd\")\n",
        "  else:\n",
        "    print(str(num) + \"th\")"
      ],
      "metadata": {
        "id": "hlU__zZFrXAV",
        "colab": {
          "base_uri": "https://localhost:8080/"
        },
        "outputId": "bb51ae1a-0321-41a6-b8e2-57eb1c03af6b"
      },
      "execution_count": null,
      "outputs": [
        {
          "output_type": "stream",
          "name": "stdout",
          "text": [
            "1st\n",
            "2nd\n",
            "3rd\n",
            "4th\n",
            "5th\n",
            "6th\n",
            "7th\n",
            "8th\n",
            "9th\n",
            "10th\n"
          ]
        }
      ]
    }
  ]
}
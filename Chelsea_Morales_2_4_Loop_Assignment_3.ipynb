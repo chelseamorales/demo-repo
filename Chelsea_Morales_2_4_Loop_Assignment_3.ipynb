{
  "nbformat": 4,
  "nbformat_minor": 0,
  "metadata": {
    "colab": {
      "name": "Chelsea Morales - 2-4_Loop_Assignment_3.ipynb",
      "provenance": [],
      "collapsed_sections": [],
      "include_colab_link": true
    },
    "kernelspec": {
      "name": "python3",
      "display_name": "Python 3"
    }
  },
  "cells": [
    {
      "cell_type": "markdown",
      "metadata": {
        "id": "view-in-github",
        "colab_type": "text"
      },
      "source": [
        "<a href=\"https://colab.research.google.com/github/chelseamorales/demo-repo/blob/main/Chelsea_Morales_2_4_Loop_Assignment_3.ipynb\" target=\"_parent\"><img src=\"https://colab.research.google.com/assets/colab-badge.svg\" alt=\"Open In Colab\"/></a>"
      ]
    },
    {
      "cell_type": "markdown",
      "metadata": {
        "id": "Vgs8Kp4TidFQ"
      },
      "source": [
        "# Intrdouction to Python - Loop - Assignment #3 "
      ]
    },
    {
      "cell_type": "markdown",
      "metadata": {
        "id": "_Hq7Ny79iwgD"
      },
      "source": [
        "## 1. Create a list that holds 5 data variables. "
      ]
    },
    {
      "cell_type": "code",
      "metadata": {
        "id": "lotvpVpvlKsR"
      },
      "source": [
        "list1 = [\"apples\", \"pears\", \"peaches\", \"blueberries\", \"oranges\"]"
      ],
      "execution_count": null,
      "outputs": []
    },
    {
      "cell_type": "markdown",
      "metadata": {
        "id": "io_27RSlizno"
      },
      "source": [
        "## 2.\tPrint out those variables by using a for loop"
      ]
    },
    {
      "cell_type": "code",
      "metadata": {
        "id": "Dh1o5cAylSHB",
        "colab": {
          "base_uri": "https://localhost:8080/"
        },
        "outputId": "a2aa7dbd-c4ee-46d7-ce85-9b5078bff61c"
      },
      "source": [
        "for fruits in list1:\n",
        "  print(fruits)"
      ],
      "execution_count": null,
      "outputs": [
        {
          "output_type": "stream",
          "name": "stdout",
          "text": [
            "apples\n",
            "pears\n",
            "peaches\n",
            "blueberries\n",
            "oranges\n"
          ]
        }
      ]
    },
    {
      "cell_type": "markdown",
      "metadata": {
        "id": "DAW8m8IQjRyR"
      },
      "source": [
        "## 3.\tModify your for loop to add a message to your for loop."
      ]
    },
    {
      "cell_type": "code",
      "metadata": {
        "id": "guULMEhrjYtT",
        "colab": {
          "base_uri": "https://localhost:8080/"
        },
        "outputId": "b292016e-6bd2-46e1-c2a6-58382cf298d1"
      },
      "source": [
        "for fruits in list1:\n",
        "  print(\"I am going to the grocery store. Do you want me to buy you \" + fruits + \"?\\n\")"
      ],
      "execution_count": null,
      "outputs": [
        {
          "output_type": "stream",
          "name": "stdout",
          "text": [
            "I am going to the grocery store. Do you want me to buy you apples?\n",
            "\n",
            "I am going to the grocery store. Do you want me to buy you pears?\n",
            "\n",
            "I am going to the grocery store. Do you want me to buy you peaches?\n",
            "\n",
            "I am going to the grocery store. Do you want me to buy you blueberries?\n",
            "\n",
            "I am going to the grocery store. Do you want me to buy you oranges?\n",
            "\n"
          ]
        }
      ]
    },
    {
      "cell_type": "markdown",
      "metadata": {
        "id": "dpa_YOt4jXyo"
      },
      "source": [
        "## 4.\tUse a for loop to print even numbers from 1-20."
      ]
    },
    {
      "cell_type": "code",
      "metadata": {
        "id": "pltxfnh3iJLW",
        "colab": {
          "base_uri": "https://localhost:8080/"
        },
        "outputId": "79564b7f-a5e9-4144-8a64-97296bc0675e"
      },
      "source": [
        "for evennum in list(range(2,21,2)):\n",
        "  print(evennum)"
      ],
      "execution_count": null,
      "outputs": [
        {
          "output_type": "stream",
          "name": "stdout",
          "text": [
            "2\n",
            "4\n",
            "6\n",
            "8\n",
            "10\n",
            "12\n",
            "14\n",
            "16\n",
            "18\n",
            "20\n"
          ]
        }
      ]
    },
    {
      "cell_type": "markdown",
      "metadata": {
        "id": "Ka84RGy4jmLT"
      },
      "source": [
        "## 5.\tSort your list in alphabetic order."
      ]
    },
    {
      "cell_type": "code",
      "metadata": {
        "id": "34IFFtK4jrg4"
      },
      "source": [
        "list1.sort()"
      ],
      "execution_count": null,
      "outputs": []
    },
    {
      "cell_type": "code",
      "metadata": {
        "id": "M17RfxQljvqb",
        "colab": {
          "base_uri": "https://localhost:8080/"
        },
        "outputId": "34e5b30b-5b0e-4a7a-c93a-628ece3a9371"
      },
      "source": [
        "print(list1)"
      ],
      "execution_count": null,
      "outputs": [
        {
          "output_type": "stream",
          "name": "stdout",
          "text": [
            "['apples', 'blueberries', 'oranges', 'peaches', 'pears']\n"
          ]
        }
      ]
    },
    {
      "cell_type": "markdown",
      "metadata": {
        "id": "ZKHwdMnLliFy"
      },
      "source": [
        "## 6.\tPrint out the first three elements of your list."
      ]
    },
    {
      "cell_type": "code",
      "metadata": {
        "id": "eXUDZfLOllTT",
        "colab": {
          "base_uri": "https://localhost:8080/"
        },
        "outputId": "5a0d03f1-7290-4ef4-b0a3-973962809ebe"
      },
      "source": [
        "print(list1[0:3])"
      ],
      "execution_count": null,
      "outputs": [
        {
          "output_type": "stream",
          "name": "stdout",
          "text": [
            "['apples', 'blueberries', 'oranges']\n"
          ]
        }
      ]
    },
    {
      "cell_type": "markdown",
      "metadata": {
        "id": "oedkoLECmv6x"
      },
      "source": [
        "## 7.\tCreate a loop to print the last 2 elements of your list."
      ]
    },
    {
      "cell_type": "code",
      "metadata": {
        "id": "jjh2GdktllZY",
        "colab": {
          "base_uri": "https://localhost:8080/"
        },
        "outputId": "542f21b3-3951-4bd8-a8e2-bf7ce8239ad3"
      },
      "source": [
        "print(list1[3:5])"
      ],
      "execution_count": null,
      "outputs": [
        {
          "output_type": "stream",
          "name": "stdout",
          "text": [
            "['peaches', 'pears']\n"
          ]
        }
      ]
    }
  ]
}
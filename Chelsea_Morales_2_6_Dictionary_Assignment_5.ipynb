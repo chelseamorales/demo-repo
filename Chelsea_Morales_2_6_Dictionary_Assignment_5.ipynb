{
  "nbformat": 4,
  "nbformat_minor": 0,
  "metadata": {
    "colab": {
      "name": "Chelsea Morales - 2-6_Dictionary_Assignment_5.ipynb",
      "provenance": [],
      "collapsed_sections": [],
      "include_colab_link": true
    },
    "kernelspec": {
      "name": "python3",
      "display_name": "Python 3"
    }
  },
  "cells": [
    {
      "cell_type": "markdown",
      "metadata": {
        "id": "view-in-github",
        "colab_type": "text"
      },
      "source": [
        "<a href=\"https://colab.research.google.com/github/chelseamorales/demo-repo/blob/main/Chelsea_Morales_2_6_Dictionary_Assignment_5.ipynb\" target=\"_parent\"><img src=\"https://colab.research.google.com/assets/colab-badge.svg\" alt=\"Open In Colab\"/></a>"
      ]
    },
    {
      "cell_type": "markdown",
      "metadata": {
        "id": "Vgs8Kp4TidFQ"
      },
      "source": [
        "# Intrdouction to Python - Dictionary - Assignment #5 "
      ]
    },
    {
      "cell_type": "markdown",
      "metadata": {
        "id": "_Hq7Ny79iwgD"
      },
      "source": [
        "## 1.\tCreate a simple dictionary that stores 2 variables, for example: first and last name."
      ]
    },
    {
      "cell_type": "code",
      "metadata": {
        "id": "lotvpVpvlKsR"
      },
      "source": [
        "name = {\"first_name\": \"john\", \"last_name\": \"smith\"}"
      ],
      "execution_count": 3,
      "outputs": []
    },
    {
      "cell_type": "markdown",
      "metadata": {
        "id": "io_27RSlizno"
      },
      "source": [
        "## 2.\tPrint out those variables stored in your previous dictionary. "
      ]
    },
    {
      "cell_type": "code",
      "metadata": {
        "id": "Dh1o5cAylSHB",
        "colab": {
          "base_uri": "https://localhost:8080/"
        },
        "outputId": "b6cfe9f0-883d-4e85-a636-92ed1e83a233"
      },
      "source": [
        "print(name)"
      ],
      "execution_count": 4,
      "outputs": [
        {
          "output_type": "stream",
          "name": "stdout",
          "text": [
            "{'first_name': 'john', 'last_name': 'smith'}\n"
          ]
        }
      ]
    },
    {
      "cell_type": "markdown",
      "metadata": {
        "id": "DAW8m8IQjRyR"
      },
      "source": [
        "## 3.\tAdd a message to those variables on printing: for example: “Hello, firstname lastname!”"
      ]
    },
    {
      "cell_type": "code",
      "metadata": {
        "id": "guULMEhrjYtT",
        "colab": {
          "base_uri": "https://localhost:8080/"
        },
        "outputId": "47c4e37c-badb-461a-c099-0bce96583dc0"
      },
      "source": [
        "print(\"Hello, \" + name[\"first_name\"].title() + \" \" + name[\"last_name\"].title() + \"!\")"
      ],
      "execution_count": 11,
      "outputs": [
        {
          "output_type": "stream",
          "name": "stdout",
          "text": [
            "Hello, John Smith!\n"
          ]
        }
      ]
    },
    {
      "cell_type": "markdown",
      "metadata": {
        "id": "dpa_YOt4jXyo"
      },
      "source": [
        "## 4.\tCreate a dictionary that holds 2 key: value pairs:\n",
        "\n",
        "a.\tLoop through your dictionary and print each pair,\n"
      ]
    },
    {
      "cell_type": "code",
      "metadata": {
        "id": "pltxfnh3iJLW"
      },
      "source": [
        "favorites = {\n",
        "    \"fruit\": \"blueberries\",\n",
        "    \"tv show\": \"the office\",\n",
        "}"
      ],
      "execution_count": 12,
      "outputs": []
    },
    {
      "cell_type": "code",
      "metadata": {
        "id": "PzH5Rcn-jwPL",
        "colab": {
          "base_uri": "https://localhost:8080/"
        },
        "outputId": "b46da9c0-4071-4817-f0a9-d1e58787eb87"
      },
      "source": [
        "for key, value in favorites.items():\n",
        "  print(\"Key: \" + key)\n",
        "  print(\"Value: \" + value.title() + \"\\n\")"
      ],
      "execution_count": 19,
      "outputs": [
        {
          "output_type": "stream",
          "name": "stdout",
          "text": [
            "Key: fruit\n",
            "Value: Blueberries\n",
            "\n",
            "Key: tv show\n",
            "Value: The Office\n",
            "\n"
          ]
        }
      ]
    }
  ]
}
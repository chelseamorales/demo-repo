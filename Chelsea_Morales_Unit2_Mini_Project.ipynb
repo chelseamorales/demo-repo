{
  "nbformat": 4,
  "nbformat_minor": 0,
  "metadata": {
    "colab": {
      "name": "Chelsea Morales - Unit2_Mini_Project.ipynb",
      "provenance": [],
      "collapsed_sections": [],
      "include_colab_link": true
    },
    "kernelspec": {
      "name": "python3",
      "display_name": "Python 3"
    }
  },
  "cells": [
    {
      "cell_type": "markdown",
      "metadata": {
        "id": "view-in-github",
        "colab_type": "text"
      },
      "source": [
        "<a href=\"https://colab.research.google.com/github/chelseamorales/demo-repo/blob/main/Chelsea_Morales_Unit2_Mini_Project.ipynb\" target=\"_parent\"><img src=\"https://colab.research.google.com/assets/colab-badge.svg\" alt=\"Open In Colab\"/></a>"
      ]
    },
    {
      "cell_type": "markdown",
      "metadata": {
        "id": "Vgs8Kp4TidFQ"
      },
      "source": [
        "# Intrdouction to Python - Mini Project"
      ]
    },
    {
      "cell_type": "markdown",
      "metadata": {
        "id": "_Hq7Ny79iwgD"
      },
      "source": [
        "#Python Project – Odd or Even\n",
        "\n",
        "Ask the user for a number. Depending on whether the number is even or odd, print out an appropriate message to the user. Hint: how does an even / odd number react differently when divided by 2?\n"
      ]
    },
    {
      "cell_type": "code",
      "metadata": {
        "id": "lotvpVpvlKsR",
        "colab": {
          "base_uri": "https://localhost:8080/"
        },
        "outputId": "4da2afcb-f719-496c-dbf4-07778d91df61"
      },
      "source": [
        "number = \"Please enter a number: \"\n",
        "message = \"\"\n",
        "\n",
        "active = True\n",
        "while active:\n",
        "  message = input(number)\n",
        "  \n",
        "  if int(message) % 2 != 0:\n",
        "    print(\"The number \" + message + \" is odd.\")\n",
        "    active = False\n",
        "\n",
        "  else:\n",
        "    print(\"The number \" + message + \" is even.\")\n",
        "    active = False"
      ],
      "execution_count": 53,
      "outputs": [
        {
          "output_type": "stream",
          "name": "stdout",
          "text": [
            "Please enter a number: 80\n",
            "The number 80 is even.\n"
          ]
        }
      ]
    },
    {
      "cell_type": "markdown",
      "metadata": {
        "id": "io_27RSlizno"
      },
      "source": [
        "# Bonus:\n",
        "\n",
        "1.\tIf the number is a multiple of 4, print out a different message.\n",
        "\n",
        "2.\tAsk the user for two numbers: one number to check (call it num) and one number to divide by (check). If check divides evenly into num, tell that to the user. If not, print a different appropriate message.\n"
      ]
    },
    {
      "cell_type": "markdown",
      "source": [
        "Bonus #1"
      ],
      "metadata": {
        "id": "BX4w2ksgaKoN"
      }
    },
    {
      "cell_type": "code",
      "metadata": {
        "id": "Dh1o5cAylSHB",
        "colab": {
          "base_uri": "https://localhost:8080/"
        },
        "outputId": "6eabc678-9710-4b79-97af-3d891bc7316d"
      },
      "source": [
        "number = \"Please enter a number: \"\n",
        "message = \"\"\n",
        "\n",
        "active = True\n",
        "while active:\n",
        "  message = input(number)\n",
        "  \n",
        "  if int(message) % 4 != 0:\n",
        "    print(\"The number \" + message + \" is not a multiple of 4.\")\n",
        "    active = False\n",
        "\n",
        "  else:\n",
        "    print(\"The number \" + message + \" is a multiple of 4.\")\n",
        "    active = False"
      ],
      "execution_count": 52,
      "outputs": [
        {
          "output_type": "stream",
          "name": "stdout",
          "text": [
            "Please enter a number: 8\n",
            "The number 8 is a multiple of 4.\n"
          ]
        }
      ]
    },
    {
      "cell_type": "markdown",
      "source": [
        "Bonus #2"
      ],
      "metadata": {
        "id": "IjzV3FBtcJuv"
      }
    },
    {
      "cell_type": "code",
      "metadata": {
        "id": "vs8ppR-wlSKL",
        "colab": {
          "base_uri": "https://localhost:8080/"
        },
        "outputId": "7eb92ce6-9eb8-4d70-a135-f330070c847d"
      },
      "source": [
        "text1 = \"Please enter the dividend: \"\n",
        "num = \"\"\n",
        "text2 = \"Please enter the divisor: \"\n",
        "check = \"\"\n",
        "\n",
        "active = True\n",
        "while active:\n",
        "  num = input(text1)\n",
        "  check = input(text2)\n",
        "  \n",
        "  if int(num) % int(check) != 0:\n",
        "    print(\"The number does not divide evenly.\")\n",
        "    active = False\n",
        "\n",
        "  else:\n",
        "    print(\"The number divides evenly.\")\n",
        "    active = False"
      ],
      "execution_count": 51,
      "outputs": [
        {
          "output_type": "stream",
          "name": "stdout",
          "text": [
            "Please enter the dividend: 5\n",
            "Please enter the divisor: 4\n",
            "The number does not divide evenly.\n"
          ]
        }
      ]
    }
  ]
}